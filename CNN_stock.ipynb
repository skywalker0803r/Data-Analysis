{
  "nbformat": 4,
  "nbformat_minor": 0,
  "metadata": {
    "colab": {
      "name": "CNN_stock.ipynb",
      "version": "0.3.2",
      "provenance": [],
      "collapsed_sections": [],
      "include_colab_link": true
    },
    "kernelspec": {
      "name": "python3",
      "display_name": "Python 3"
    }
  },
  "cells": [
    {
      "cell_type": "markdown",
      "metadata": {
        "id": "view-in-github",
        "colab_type": "text"
      },
      "source": [
        "<a href=\"https://colab.research.google.com/github/skywalker0803r/Data-Analysis/blob/master/CNN_stock.ipynb\" target=\"_parent\"><img src=\"https://colab.research.google.com/assets/colab-badge.svg\" alt=\"Open In Colab\"/></a>"
      ]
    },
    {
      "cell_type": "code",
      "metadata": {
        "id": "g7NPpY26_qJm",
        "colab_type": "code",
        "colab": {}
      },
      "source": [
        "import pandas as pd\n",
        "import seaborn as sns\n",
        "import pandas_datareader.data as web\n",
        "df = web.DataReader('0050.tw',\"yahoo\",start=\"2002-01-01\")"
      ],
      "execution_count": 0,
      "outputs": []
    },
    {
      "cell_type": "markdown",
      "metadata": {
        "id": "6vaRLIuvJlZ7",
        "colab_type": "text"
      },
      "source": [
        "# 載入資料"
      ]
    },
    {
      "cell_type": "code",
      "metadata": {
        "id": "kRKHlNGl_7JV",
        "colab_type": "code",
        "outputId": "768cd9f9-8cd6-4c98-a75a-938a224635bc",
        "colab": {
          "base_uri": "https://localhost:8080/",
          "height": 195
        }
      },
      "source": [
        "print(df.head(3))\n",
        "print(df.tail(3))"
      ],
      "execution_count": 2,
      "outputs": [
        {
          "output_type": "stream",
          "text": [
            "                 High        Low       Open      Close     Volume  Adj Close\n",
            "Date                                                                        \n",
            "2007-12-31  61.700001  61.049999  61.450001  61.450001  2870000.0  50.982933\n",
            "2008-01-02  61.299999  60.000000  60.099998  60.099998  4975000.0  49.862885\n",
            "2008-01-03  59.349998  58.599998  59.099998  59.099998  7413000.0  49.033218\n",
            "                 High        Low       Open      Close      Volume  Adj Close\n",
            "Date                                                                         \n",
            "2019-09-04  82.199997  81.400002  81.449997  82.150002  10748771.0  82.150002\n",
            "2019-09-05  83.199997  82.550003  82.550003  83.000000  25429390.0  83.000000\n",
            "2019-09-06  83.550003  82.550003  82.550003  83.500000  17194000.0  83.500000\n"
          ],
          "name": "stdout"
        }
      ]
    },
    {
      "cell_type": "markdown",
      "metadata": {
        "id": "ZsFMU68NI85j",
        "colab_type": "text"
      },
      "source": [
        "# Labeling(計算return)"
      ]
    },
    {
      "cell_type": "code",
      "metadata": {
        "id": "WaNG41cBI9BT",
        "colab_type": "code",
        "colab": {
          "base_uri": "https://localhost:8080/",
          "height": 461
        },
        "outputId": "f5be3044-09c3-42d2-c44f-def32cbb0913"
      },
      "source": [
        "df['return%'] = ( (df['Close']/df['Close'].shift(1)) -1 )*100 #[(今天股價/昨天股價)-1]*100\n",
        "print(df['return%'].describe())\n",
        "sns.distplot(df['return%'].dropna())"
      ],
      "execution_count": 3,
      "outputs": [
        {
          "output_type": "stream",
          "text": [
            "count    2876.000000\n",
            "mean        0.023752\n",
            "std         1.624334\n",
            "min       -11.922342\n",
            "25%        -0.518362\n",
            "50%         0.000000\n",
            "75%         0.609987\n",
            "max        19.945908\n",
            "Name: return%, dtype: float64\n"
          ],
          "name": "stdout"
        },
        {
          "output_type": "execute_result",
          "data": {
            "text/plain": [
              "<matplotlib.axes._subplots.AxesSubplot at 0x7f64ac0bf0b8>"
            ]
          },
          "metadata": {
            "tags": []
          },
          "execution_count": 3
        },
        {
          "output_type": "display_data",
          "data": {
            "image/png": "[encoded data removed]",
            "text/plain": [
              "<Figure size 432x288 with 1 Axes>"
            ]
          },
          "metadata": {
            "tags": []
          }
        }
      ]
    },
    {
      "cell_type": "markdown",
      "metadata": {
        "id": "9K9RepGQwbQQ",
        "colab_type": "text"
      },
      "source": [
        "# 計算技術指標RSI"
      ]
    },
    {
      "cell_type": "code",
      "metadata": {
        "id": "ccCzPbARAHge",
        "colab_type": "code",
        "outputId": "b1b4aadc-1f60-4345-ceac-52ec9fd21166",
        "colab": {
          "base_uri": "https://localhost:8080/",
          "height": 461
        }
      },
      "source": [
        "#計算絕對漲/跌幅\n",
        "df['絕對漲幅'] = (df['Close']/df['Close'].shift(1))-1 #(今天股價/昨日股價)-1\n",
        "df['絕對漲幅'][df['絕對漲幅']<0] = 0 #跌幅的部份歸0\n",
        "df['絕對跌幅'] = (-1) * ((df['Close']/df['Close'].shift(1))-1) #-1 * ((今天股價/昨日股價)-1)#反向的絕對漲幅\n",
        "df['絕對跌幅'][df['絕對跌幅']<0] = 0 #漲幅的部份歸0\n",
        "\n",
        "#漲幅平滑\n",
        "df['UPt'] = df['絕對漲幅'].rolling(6).mean()\n",
        "df['DNt'] = df['絕對跌幅'].rolling(6).mean()\n",
        "\n",
        "#計算RSI\n",
        "df['RSI'] = 100 * df['UPt'] / (df['UPt']+df['DNt'])\n",
        "print(df['RSI'].describe())\n",
        "sns.distplot(df['RSI'].dropna())"
      ],
      "execution_count": 4,
      "outputs": [
        {
          "output_type": "stream",
          "text": [
            "count    2871.000000\n",
            "mean       53.253256\n",
            "std        25.498499\n",
            "min         0.000000\n",
            "25%        34.360715\n",
            "50%        54.308057\n",
            "75%        72.919139\n",
            "max       100.000000\n",
            "Name: RSI, dtype: float64\n"
          ],
          "name": "stdout"
        },
        {
          "output_type": "execute_result",
          "data": {
            "text/plain": [
              "<matplotlib.axes._subplots.AxesSubplot at 0x7f64ac07dd30>"
            ]
          },
          "metadata": {
            "tags": []
          },
          "execution_count": 4
        },
        {
          "output_type": "display_data",
          "data": {
            "image/png": "[encoded data removed]",
            "text/plain": [
              "<Figure size 432x288 with 1 Axes>"
            ]
          },
          "metadata": {
            "tags": []
          }
        }
      ]
    },
    {
      "cell_type": "markdown",
      "metadata": {
        "id": "fZXZuQe93pJE",
        "colab_type": "text"
      },
      "source": [
        "# 計算威廉指標"
      ]
    },
    {
      "cell_type": "code",
      "metadata": {
        "id": "qKVNZEoQ3pUR",
        "colab_type": "code",
        "colab": {
          "base_uri": "https://localhost:8080/",
          "height": 461
        },
        "outputId": "35cedc05-58fe-4ac2-ab5f-1888ea02132d"
      },
      "source": [
        "df['最近9日內最高價'] = df['High'].rolling(9).max()\n",
        "df['最近9日內最低價'] = df['Low'].rolling(9).min()\n",
        "df['威廉指標'] = (df['最近9日內最高價']-df['Close'])/(df['最近9日內最高價']-df['最近9日內最低價'])\n",
        "df['威廉指標'] = df['威廉指標'] * 100\n",
        "print(df['威廉指標'].describe())\n",
        "sns.distplot(df['威廉指標'].dropna())"
      ],
      "execution_count": 5,
      "outputs": [
        {
          "output_type": "stream",
          "text": [
            "count    2869.000000\n",
            "mean       44.536916\n",
            "std        31.484913\n",
            "min         0.000000\n",
            "25%        14.705909\n",
            "50%        41.176497\n",
            "75%        74.074158\n",
            "max       100.000000\n",
            "Name: 威廉指標, dtype: float64\n"
          ],
          "name": "stdout"
        },
        {
          "output_type": "execute_result",
          "data": {
            "text/plain": [
              "<matplotlib.axes._subplots.AxesSubplot at 0x7f64abfc0588>"
            ]
          },
          "metadata": {
            "tags": []
          },
          "execution_count": 5
        },
        {
          "output_type": "display_data",
          "data": {
            "image/png": "[encoded data removed]",
            "text/plain": [
              "<Figure size 432x288 with 1 Axes>"
            ]
          },
          "metadata": {
            "tags": []
          }
        }
      ]
    },
    {
      "cell_type": "markdown",
      "metadata": {
        "id": "xK4jb6KTDdGa",
        "colab_type": "text"
      },
      "source": [
        "# 計算5日均線bias"
      ]
    },
    {
      "cell_type": "code",
      "metadata": {
        "id": "l494J1qUDdQq",
        "colab_type": "code",
        "colab": {
          "base_uri": "https://localhost:8080/",
          "height": 461
        },
        "outputId": "cae6c31b-a9fb-42f3-e1a4-f433265e8438"
      },
      "source": [
        "df['5日均'] = df['Close'].rolling(5).mean()\n",
        "df['5日均bias'] = ((df['Close'] - df['5日均']) / df['5日均'])*100\n",
        "print(df['5日均bias'].describe())\n",
        "sns.distplot(df['5日均bias'].dropna())"
      ],
      "execution_count": 6,
      "outputs": [
        {
          "output_type": "stream",
          "text": [
            "count    2873.000000\n",
            "mean        0.025998\n",
            "std         1.505634\n",
            "min       -12.935322\n",
            "25%        -0.650237\n",
            "50%         0.118045\n",
            "75%         0.748594\n",
            "max        10.419441\n",
            "Name: 5日均bias, dtype: float64\n"
          ],
          "name": "stdout"
        },
        {
          "output_type": "execute_result",
          "data": {
            "text/plain": [
              "<matplotlib.axes._subplots.AxesSubplot at 0x7f64ac019048>"
            ]
          },
          "metadata": {
            "tags": []
          },
          "execution_count": 6
        },
        {
          "output_type": "display_data",
          "data": {
            "image/png": "[encoded data removed]",
            "text/plain": [
              "<Figure size 432x288 with 1 Axes>"
            ]
          },
          "metadata": {
            "tags": []
          }
        }
      ]
    },
    {
      "cell_type": "markdown",
      "metadata": {
        "id": "cFfsJwzZGEGf",
        "colab_type": "text"
      },
      "source": [
        "# 計算十日均線bias"
      ]
    },
    {
      "cell_type": "code",
      "metadata": {
        "id": "au5w90GtGEO7",
        "colab_type": "code",
        "colab": {
          "base_uri": "https://localhost:8080/",
          "height": 461
        },
        "outputId": "cc6af1bd-b6d7-4bc4-fdba-9c9ae8c19a86"
      },
      "source": [
        "df['10日均'] = df['Close'].rolling(10).mean()\n",
        "df['10日均bias'] = ((df['Close'] - df['10日均']) / df['10日均'])*100\n",
        "print(df['10日均bias'].describe())\n",
        "sns.distplot(df['10日均bias'].dropna())"
      ],
      "execution_count": 7,
      "outputs": [
        {
          "output_type": "stream",
          "text": [
            "count    2868.000000\n",
            "mean        0.062815\n",
            "std         2.114597\n",
            "min       -18.756241\n",
            "25%        -0.980779\n",
            "50%         0.201425\n",
            "75%         1.256370\n",
            "max        12.746320\n",
            "Name: 10日均bias, dtype: float64\n"
          ],
          "name": "stdout"
        },
        {
          "output_type": "execute_result",
          "data": {
            "text/plain": [
              "<matplotlib.axes._subplots.AxesSubplot at 0x7f64abef0d30>"
            ]
          },
          "metadata": {
            "tags": []
          },
          "execution_count": 7
        },
        {
          "output_type": "display_data",
          "data": {
            "image/png": "[encoded data removed]",
            "text/plain": [
              "<Figure size 432x288 with 1 Axes>"
            ]
          },
          "metadata": {
            "tags": []
          }
        }
      ]
    },
    {
      "cell_type": "markdown",
      "metadata": {
        "id": "ed_52kF_GZpG",
        "colab_type": "text"
      },
      "source": [
        "# 計算5日均和10日均bias"
      ]
    },
    {
      "cell_type": "code",
      "metadata": {
        "id": "tsZ7T7T6GZw3",
        "colab_type": "code",
        "colab": {
          "base_uri": "https://localhost:8080/",
          "height": 461
        },
        "outputId": "23848328-f50e-4e52-bfdb-e025478feb53"
      },
      "source": [
        "df['5-10_bias'] = ((df['5日均'] - df['10日均']) / df['10日均'])*100\n",
        "print(df['5-10_bias'].describe())\n",
        "sns.distplot(df['5-10_bias'].dropna())"
      ],
      "execution_count": 8,
      "outputs": [
        {
          "output_type": "stream",
          "text": [
            "count    2868.000000\n",
            "mean        0.029631\n",
            "std         1.116624\n",
            "min        -7.963148\n",
            "25%        -0.520395\n",
            "50%         0.107785\n",
            "75%         0.662740\n",
            "max         6.807571\n",
            "Name: 5-10_bias, dtype: float64\n"
          ],
          "name": "stdout"
        },
        {
          "output_type": "execute_result",
          "data": {
            "text/plain": [
              "<matplotlib.axes._subplots.AxesSubplot at 0x7f64abf57cc0>"
            ]
          },
          "metadata": {
            "tags": []
          },
          "execution_count": 8
        },
        {
          "output_type": "display_data",
          "data": {
            "image/png": "[encoded data removed]",
            "text/plain": [
              "<Figure size 432x288 with 1 Axes>"
            ]
          },
          "metadata": {
            "tags": []
          }
        }
      ]
    },
    {
      "cell_type": "markdown",
      "metadata": {
        "id": "MoqrDEejwYOV",
        "colab_type": "text"
      },
      "source": [
        "# columns選取"
      ]
    },
    {
      "cell_type": "code",
      "metadata": {
        "id": "qrGg0ojRKuE1",
        "colab_type": "code",
        "outputId": "bbd73c81-fcc9-4f0d-9f75-3acbc26c8aec",
        "colab": {
          "base_uri": "https://localhost:8080/",
          "height": 230
        }
      },
      "source": [
        "df = df.dropna(axis=0)#刪除有缺失的row,rolling導致\n",
        "features = ['RSI','威廉指標','5日均bias','10日均bias','5-10_bias']\n",
        "labels = ['return%']\n",
        "df = df[features+labels]\n",
        "df.head()"
      ],
      "execution_count": 9,
      "outputs": [
        {
          "output_type": "execute_result",
          "data": {
            "text/html": [
              "<div>\n",
              "<style scoped>\n",
              "    .dataframe tbody tr th:only-of-type {\n",
              "        vertical-align: middle;\n",
              "    }\n",
              "\n",
              "    .dataframe tbody tr th {\n",
              "        vertical-align: top;\n",
              "    }\n",
              "\n",
              "    .dataframe thead th {\n",
              "        text-align: right;\n",
              "    }\n",
              "</style>\n",
              "<table border=\"1\" class=\"dataframe\">\n",
              "  <thead>\n",
              "    <tr style=\"text-align: right;\">\n",
              "      <th></th>\n",
              "      <th>RSI</th>\n",
              "      <th>威廉指標</th>\n",
              "      <th>5日均bias</th>\n",
              "      <th>10日均bias</th>\n",
              "      <th>5-10_bias</th>\n",
              "      <th>return%</th>\n",
              "    </tr>\n",
              "    <tr>\n",
              "      <th>Date</th>\n",
              "      <th></th>\n",
              "      <th></th>\n",
              "      <th></th>\n",
              "      <th></th>\n",
              "      <th></th>\n",
              "      <th></th>\n",
              "    </tr>\n",
              "  </thead>\n",
              "  <tbody>\n",
              "    <tr>\n",
              "      <th>2008-01-14</th>\n",
              "      <td>48.202437</td>\n",
              "      <td>46.296316</td>\n",
              "      <td>1.624609</td>\n",
              "      <td>0.435561</td>\n",
              "      <td>-1.170039</td>\n",
              "      <td>1.994792</td>\n",
              "    </tr>\n",
              "    <tr>\n",
              "      <th>2008-01-15</th>\n",
              "      <td>93.464266</td>\n",
              "      <td>8.849561</td>\n",
              "      <td>4.038853</td>\n",
              "      <td>4.350054</td>\n",
              "      <td>0.299120</td>\n",
              "      <td>3.826531</td>\n",
              "    </tr>\n",
              "    <tr>\n",
              "      <th>2008-01-16</th>\n",
              "      <td>60.785755</td>\n",
              "      <td>55.752194</td>\n",
              "      <td>-0.612660</td>\n",
              "      <td>0.111428</td>\n",
              "      <td>0.728551</td>\n",
              "      <td>-4.340701</td>\n",
              "    </tr>\n",
              "    <tr>\n",
              "      <th>2008-01-17</th>\n",
              "      <td>52.002582</td>\n",
              "      <td>60.176975</td>\n",
              "      <td>-1.122257</td>\n",
              "      <td>-0.154531</td>\n",
              "      <td>0.978709</td>\n",
              "      <td>-0.428082</td>\n",
              "    </tr>\n",
              "    <tr>\n",
              "      <th>2008-01-18</th>\n",
              "      <td>55.259265</td>\n",
              "      <td>53.982309</td>\n",
              "      <td>-0.813836</td>\n",
              "      <td>0.550016</td>\n",
              "      <td>1.375042</td>\n",
              "      <td>0.601889</td>\n",
              "    </tr>\n",
              "  </tbody>\n",
              "</table>\n",
              "</div>"
            ],
            "text/plain": [
              "                  RSI       威廉指標   5日均bias  10日均bias  5-10_bias   return%\n",
              "Date                                                                     \n",
              "2008-01-14  48.202437  46.296316  1.624609  0.435561  -1.170039  1.994792\n",
              "2008-01-15  93.464266   8.849561  4.038853  4.350054   0.299120  3.826531\n",
              "2008-01-16  60.785755  55.752194 -0.612660  0.111428   0.728551 -4.340701\n",
              "2008-01-17  52.002582  60.176975 -1.122257 -0.154531   0.978709 -0.428082\n",
              "2008-01-18  55.259265  53.982309 -0.813836  0.550016   1.375042  0.601889"
            ]
          },
          "metadata": {
            "tags": []
          },
          "execution_count": 9
        }
      ]
    },
    {
      "cell_type": "markdown",
      "metadata": {
        "id": "YSh6cJBEwgtg",
        "colab_type": "text"
      },
      "source": [
        "# 相關性分析"
      ]
    },
    {
      "cell_type": "code",
      "metadata": {
        "id": "hKy0pMZfLKEH",
        "colab_type": "code",
        "outputId": "9eb12c70-bb77-4fd0-e911-21f1619b913d",
        "colab": {
          "base_uri": "https://localhost:8080/",
          "height": 324
        }
      },
      "source": [
        "import seaborn as sns\n",
        "sns.heatmap(abs(df.corr()),annot=True,linewidths=0.1)"
      ],
      "execution_count": 10,
      "outputs": [
        {
          "output_type": "execute_result",
          "data": {
            "text/plain": [
              "<matplotlib.axes._subplots.AxesSubplot at 0x7f64a8162080>"
            ]
          },
          "metadata": {
            "tags": []
          },
          "execution_count": 10
        },
        {
          "output_type": "display_data",
          "data": {
            "image/png": "[encoded data removed]",
            "text/plain": [
              "<Figure size 432x288 with 2 Axes>"
            ]
          },
          "metadata": {
            "tags": []
          }
        }
      ]
    },
    {
      "cell_type": "markdown",
      "metadata": {
        "id": "_kc7tvz_M7PO",
        "colab_type": "text"
      },
      "source": [
        "# Xs ,ys prepare"
      ]
    },
    {
      "cell_type": "code",
      "metadata": {
        "id": "2ZHvlRJ5Lzzu",
        "colab_type": "code",
        "outputId": "b621b3b5-a355-4721-b022-c29d0ca0d4bf",
        "colab": {
          "base_uri": "https://localhost:8080/",
          "height": 52
        }
      },
      "source": [
        "from tqdm import tqdm\n",
        "import numpy as np\n",
        "from sklearn.preprocessing import scale\n",
        "\n",
        "#定義觀察天數,起始index,結束index\n",
        "days = 7\n",
        "b_index = 0\n",
        "f_index = len(df)-days\n",
        "\n",
        "#特徵欄位\n",
        "features = df.drop('return%',axis=1).columns.tolist()\n",
        "\n",
        "#目標名稱\n",
        "y_name = 'return%'\n",
        "\n",
        "#待存放序列\n",
        "Xs = []\n",
        "ys = []\n",
        "indexs = []\n",
        "\n",
        "for i in tqdm(range(b_index,f_index,days)):\n",
        "  X = df.iloc[i:i+days,:][features]#取i:i+days這段時間的features(不包括i+days這一天),例如0,1,2...14日這些日期的features\n",
        "  y = df.iloc[i+days:i+days+1,:][y_name]#取i+days這一天的y_name,例如第15日y_name\n",
        "  X = scale(np.array(X))#特徵轉成array後再做scaling\n",
        "  indexs.append((i,i+days))\n",
        "  Xs.append(X)#加入一筆X\n",
        "  ys.append(y)#加入一筆y\n",
        "#轉換\n",
        "Xs = np.array(Xs)\n",
        "ys = np.array(ys)\n",
        "print('準備完成')"
      ],
      "execution_count": 11,
      "outputs": [
        {
          "output_type": "stream",
          "text": [
            "100%|██████████| 409/409 [00:00<00:00, 446.15it/s]"
          ],
          "name": "stderr"
        },
        {
          "output_type": "stream",
          "text": [
            "準備完成\n"
          ],
          "name": "stdout"
        },
        {
          "output_type": "stream",
          "text": [
            "\n"
          ],
          "name": "stderr"
        }
      ]
    },
    {
      "cell_type": "markdown",
      "metadata": {
        "id": "a9iNRYKpNfIP",
        "colab_type": "text"
      },
      "source": [
        "# check"
      ]
    },
    {
      "cell_type": "code",
      "metadata": {
        "id": "7YiS6ZmtNfSf",
        "colab_type": "code",
        "colab": {
          "base_uri": "https://localhost:8080/",
          "height": 70
        },
        "outputId": "f6baae17-1ec0-4f93-ba2d-a7e8748de681"
      },
      "source": [
        "print('資料筆數:',len(df))\n",
        "print('第一筆的index開始和結束',indexs[0])\n",
        "print('最後一筆的index開始和結束',indexs[-1])"
      ],
      "execution_count": 12,
      "outputs": [
        {
          "output_type": "stream",
          "text": [
            "資料筆數: 2868\n",
            "第一筆的index開始和結束 (0, 7)\n",
            "最後一筆的index開始和結束 (2856, 2863)\n"
          ],
          "name": "stdout"
        }
      ]
    },
    {
      "cell_type": "markdown",
      "metadata": {
        "id": "Pabl4tEsXYB8",
        "colab_type": "text"
      },
      "source": [
        "# Reshape X"
      ]
    },
    {
      "cell_type": "markdown",
      "metadata": {
        "id": "RvUPQWb1An8u",
        "colab_type": "text"
      },
      "source": [
        "(圖片數量,長,寬,1張)"
      ]
    },
    {
      "cell_type": "code",
      "metadata": {
        "id": "In4R0IcSPDwG",
        "colab_type": "code",
        "outputId": "a3d27e37-74ea-46e5-e9d6-3fa669bcbabb",
        "colab": {
          "base_uri": "https://localhost:8080/",
          "height": 52
        }
      },
      "source": [
        "print(Xs.shape)\n",
        "Xs = Xs.reshape(-1,days,len(features),1)\n",
        "print(Xs.shape)"
      ],
      "execution_count": 13,
      "outputs": [
        {
          "output_type": "stream",
          "text": [
            "(409, 7, 5)\n",
            "(409, 7, 5, 1)\n"
          ],
          "name": "stdout"
        }
      ]
    },
    {
      "cell_type": "markdown",
      "metadata": {
        "id": "lUy2cpReXaOV",
        "colab_type": "text"
      },
      "source": [
        "# One hot encoding of label"
      ]
    },
    {
      "cell_type": "markdown",
      "metadata": {
        "id": "hjDc-sStA1gk",
        "colab_type": "text"
      },
      "source": [
        "原始y代表漲幅"
      ]
    },
    {
      "cell_type": "code",
      "metadata": {
        "id": "6XGRdxmfWrfo",
        "colab_type": "code",
        "outputId": "fe47a537-b723-4380-ce73-621337392959",
        "colab": {
          "base_uri": "https://localhost:8080/",
          "height": 124
        }
      },
      "source": [
        "print(ys.shape)\n",
        "print(ys[:5])"
      ],
      "execution_count": 14,
      "outputs": [
        {
          "output_type": "stream",
          "text": [
            "(409, 1)\n",
            "[[-0.186224  ]\n",
            " [ 2.63876386]\n",
            " [-1.89654909]\n",
            " [-2.79375019]\n",
            " [ 0.91514653]]\n"
          ],
          "name": "stdout"
        }
      ]
    },
    {
      "cell_type": "markdown",
      "metadata": {
        "id": "zj6RK_nhA5Vt",
        "colab_type": "text"
      },
      "source": [
        "轉換成 漲或跌 的one_hot_array"
      ]
    },
    {
      "cell_type": "code",
      "metadata": {
        "id": "zs2aMc2qRUo4",
        "colab_type": "code",
        "outputId": "18c50d73-e9b7-47f6-97bc-344a35cf884b",
        "colab": {
          "base_uri": "https://localhost:8080/",
          "height": 141
        }
      },
      "source": [
        "from keras.utils.np_utils import to_categorical\n",
        "r1 = (ys>0)\n",
        "r2 = (ys<0)\n",
        "ys[r1] = int(1)\n",
        "ys[r2] = int(0)\n",
        "ys = to_categorical(ys, num_classes = 2)\n",
        "print(ys.shape)\n",
        "print(ys[:5])"
      ],
      "execution_count": 15,
      "outputs": [
        {
          "output_type": "stream",
          "text": [
            "Using TensorFlow backend.\n"
          ],
          "name": "stderr"
        },
        {
          "output_type": "stream",
          "text": [
            "(409, 2)\n",
            "[[1. 0.]\n",
            " [0. 1.]\n",
            " [1. 0.]\n",
            " [1. 0.]\n",
            " [0. 1.]]\n"
          ],
          "name": "stdout"
        }
      ]
    },
    {
      "cell_type": "markdown",
      "metadata": {
        "id": "TYcPI2TWBTpJ",
        "colab_type": "text"
      },
      "source": [
        "# Visualization"
      ]
    },
    {
      "cell_type": "code",
      "metadata": {
        "id": "2bv3dxecChjt",
        "colab_type": "code",
        "colab": {
          "base_uri": "https://localhost:8080/",
          "height": 52
        },
        "outputId": "40e684af-bf7d-45e3-9198-d4d537c96c23"
      },
      "source": [
        "print(Xs.shape)\n",
        "Xs_v = Xs.reshape(-1,Xs.shape[1],Xs.shape[2])\n",
        "print(Xs_v.shape)"
      ],
      "execution_count": 16,
      "outputs": [
        {
          "output_type": "stream",
          "text": [
            "(409, 7, 5, 1)\n",
            "(409, 7, 5)\n"
          ],
          "name": "stdout"
        }
      ]
    },
    {
      "cell_type": "code",
      "metadata": {
        "id": "ibNjBLRaBUJh",
        "colab_type": "code",
        "colab": {
          "base_uri": "https://localhost:8080/",
          "height": 281
        },
        "outputId": "9c9adb97-9012-4ac9-c5bd-26b1fd68ee83"
      },
      "source": [
        "import matplotlib.pyplot as plt\n",
        "import matplotlib.image as mpimg\n",
        "%matplotlib inline\n",
        "\n",
        "plt.subplots_adjust(wspace =0, hspace =1)\n",
        "for i in range(0,9):\n",
        "    plt.subplot(330 + (i+1))\n",
        "    plt.imshow(Xs_v[i])\n",
        "    plt.title(np.argmax(ys[i]))"
      ],
      "execution_count": 17,
      "outputs": [
        {
          "output_type": "display_data",
          "data": {
            "image/png": "[encoded data removed]",
            "text/plain": [
              "<Figure size 432x288 with 9 Axes>"
            ]
          },
          "metadata": {
            "tags": []
          }
        }
      ]
    },
    {
      "cell_type": "markdown",
      "metadata": {
        "id": "5Oa6gYq_aVjE",
        "colab_type": "text"
      },
      "source": [
        "# Split training and validation sets"
      ]
    },
    {
      "cell_type": "code",
      "metadata": {
        "id": "MgsrVpYUYf5J",
        "colab_type": "code",
        "outputId": "980ff18c-45b1-4e46-ea25-3076a09705a2",
        "colab": {
          "base_uri": "https://localhost:8080/",
          "height": 35
        }
      },
      "source": [
        "from sklearn.model_selection import train_test_split\n",
        "xtrain, xval, ytrain, yval = train_test_split(Xs,\n",
        "                                              ys, \n",
        "                                              test_size=0.2,#切分比例\n",
        "                                              random_state=0, #隨機種子\n",
        "                                              shuffle=False,#是否洗牌\n",
        "                                              stratify=None #是否根據y欄位做分層取樣\n",
        "                                             )\n",
        "print(xtrain.shape, ytrain.shape, xval.shape, yval.shape)"
      ],
      "execution_count": 18,
      "outputs": [
        {
          "output_type": "stream",
          "text": [
            "(327, 7, 5, 1) (327, 2) (82, 7, 5, 1) (82, 2)\n"
          ],
          "name": "stdout"
        }
      ]
    },
    {
      "cell_type": "markdown",
      "metadata": {
        "id": "2xQOFrENMkSb",
        "colab_type": "text"
      },
      "source": [
        "# 看一下樣本的label分布情況是否平均"
      ]
    },
    {
      "cell_type": "code",
      "metadata": {
        "id": "aA9SXiicML6Y",
        "colab_type": "code",
        "colab": {
          "base_uri": "https://localhost:8080/",
          "height": 70
        },
        "outputId": "72058c25-97b1-4ddb-845a-2afb5a9acdd2"
      },
      "source": [
        "pd.Series([np.argmax(i) for i in ys]).value_counts()"
      ],
      "execution_count": 19,
      "outputs": [
        {
          "output_type": "execute_result",
          "data": {
            "text/plain": [
              "0    213\n",
              "1    196\n",
              "dtype: int64"
            ]
          },
          "metadata": {
            "tags": []
          },
          "execution_count": 19
        }
      ]
    },
    {
      "cell_type": "code",
      "metadata": {
        "id": "UIOBe8tVL5dV",
        "colab_type": "code",
        "colab": {
          "base_uri": "https://localhost:8080/",
          "height": 70
        },
        "outputId": "b91d2809-d76c-45c9-e8fb-6386d6b3135d"
      },
      "source": [
        "pd.Series([np.argmax(i) for i in ytrain]).value_counts()"
      ],
      "execution_count": 20,
      "outputs": [
        {
          "output_type": "execute_result",
          "data": {
            "text/plain": [
              "0    176\n",
              "1    151\n",
              "dtype: int64"
            ]
          },
          "metadata": {
            "tags": []
          },
          "execution_count": 20
        }
      ]
    },
    {
      "cell_type": "code",
      "metadata": {
        "id": "A235BZ6cMQ-S",
        "colab_type": "code",
        "colab": {
          "base_uri": "https://localhost:8080/",
          "height": 70
        },
        "outputId": "a0b90f20-7a4d-4d14-acd6-f286347bd9c2"
      },
      "source": [
        "pd.Series([np.argmax(i) for i in yval]).value_counts()"
      ],
      "execution_count": 21,
      "outputs": [
        {
          "output_type": "execute_result",
          "data": {
            "text/plain": [
              "1    45\n",
              "0    37\n",
              "dtype: int64"
            ]
          },
          "metadata": {
            "tags": []
          },
          "execution_count": 21
        }
      ]
    },
    {
      "cell_type": "markdown",
      "metadata": {
        "id": "m-oXz0FGarb1",
        "colab_type": "text"
      },
      "source": [
        "# CNN"
      ]
    },
    {
      "cell_type": "code",
      "metadata": {
        "id": "eWOsWp7_amoX",
        "colab_type": "code",
        "colab": {}
      },
      "source": [
        "from keras import backend as K\n",
        "from keras.models import Sequential\n",
        "from keras.layers import Dense, Dropout, Lambda, Flatten, BatchNormalization\n",
        "from keras.layers import Conv2D, MaxPool2D, AvgPool2D\n",
        "from keras.optimizers import Adam #做梯度下降的一種優化方法\n",
        "from keras.callbacks import ReduceLROnPlateau , EarlyStopping #減少學習速率 on Plateau"
      ],
      "execution_count": 0,
      "outputs": []
    },
    {
      "cell_type": "code",
      "metadata": {
        "id": "yd-csnW2auJS",
        "colab_type": "code",
        "outputId": "07bb2399-fe40-452f-bc01-a9076407121e",
        "colab": {
          "base_uri": "https://localhost:8080/",
          "height": 855
        }
      },
      "source": [
        "model = Sequential()\n",
        "\n",
        "dim1 = days #觀察時間\n",
        "dim2 = len(features) #特徵數量\n",
        "nclasses = 2 #漲或跌\n",
        "\n",
        "#兩層conv+maxpool+dropout\n",
        "model.add(Conv2D(filters=32, kernel_size=(5,5), padding='same', activation='relu', input_shape=(dim1,dim2,1)))\n",
        "model.add(Conv2D(filters=32, kernel_size=(5,5), padding='same', activation='relu',))\n",
        "model.add(MaxPool2D(pool_size=(2,2), strides=(2,2)))\n",
        "model.add(Dropout(0.2))\n",
        "\n",
        "#兩層conv+maxpool+dropout\n",
        "model.add(Conv2D(filters=64, kernel_size=(5,5), padding='same', activation='relu'))\n",
        "model.add(Conv2D(filters=64, kernel_size=(5,5), padding='same', activation='relu'))\n",
        "model.add(MaxPool2D(pool_size=(2,2), strides=(2,2)))\n",
        "model.add(Dropout(0.2))\n",
        "\n",
        "#全連接層\n",
        "model.add(Flatten())\n",
        "model.add(Dense(120, activation='relu'))\n",
        "model.add(Dense(84, activation='relu'))\n",
        "model.add(Dense(nclasses, activation='softmax'))#分類輸出漲或跌\n",
        "model.summary()"
      ],
      "execution_count": 23,
      "outputs": [
        {
          "output_type": "stream",
          "text": [
            "WARNING: Logging before flag parsing goes to stderr.\n",
            "W0906 07:00:45.635155 140071122556800 deprecation_wrapper.py:119] From /usr/local/lib/python3.6/dist-packages/keras/backend/tensorflow_backend.py:66: The name tf.get_default_graph is deprecated. Please use tf.compat.v1.get_default_graph instead.\n",
            "\n",
            "W0906 07:00:45.656291 140071122556800 deprecation_wrapper.py:119] From /usr/local/lib/python3.6/dist-packages/keras/backend/tensorflow_backend.py:541: The name tf.placeholder is deprecated. Please use tf.compat.v1.placeholder instead.\n",
            "\n",
            "W0906 07:00:45.659395 140071122556800 deprecation_wrapper.py:119] From /usr/local/lib/python3.6/dist-packages/keras/backend/tensorflow_backend.py:4432: The name tf.random_uniform is deprecated. Please use tf.random.uniform instead.\n",
            "\n",
            "W0906 07:00:45.690287 140071122556800 deprecation_wrapper.py:119] From /usr/local/lib/python3.6/dist-packages/keras/backend/tensorflow_backend.py:4267: The name tf.nn.max_pool is deprecated. Please use tf.nn.max_pool2d instead.\n",
            "\n",
            "W0906 07:00:45.693387 140071122556800 deprecation_wrapper.py:119] From /usr/local/lib/python3.6/dist-packages/keras/backend/tensorflow_backend.py:148: The name tf.placeholder_with_default is deprecated. Please use tf.compat.v1.placeholder_with_default instead.\n",
            "\n",
            "W0906 07:00:45.704904 140071122556800 deprecation.py:506] From /usr/local/lib/python3.6/dist-packages/keras/backend/tensorflow_backend.py:3733: calling dropout (from tensorflow.python.ops.nn_ops) with keep_prob is deprecated and will be removed in a future version.\n",
            "Instructions for updating:\n",
            "Please use `rate` instead of `keep_prob`. Rate should be set to `rate = 1 - keep_prob`.\n"
          ],
          "name": "stderr"
        },
        {
          "output_type": "stream",
          "text": [
            "Model: \"sequential_1\"\n",
            "_________________________________________________________________\n",
            "Layer (type)                 Output Shape              Param #   \n",
            "=================================================================\n",
            "conv2d_1 (Conv2D)            (None, 7, 5, 32)          832       \n",
            "_________________________________________________________________\n",
            "conv2d_2 (Conv2D)            (None, 7, 5, 32)          25632     \n",
            "_________________________________________________________________\n",
            "max_pooling2d_1 (MaxPooling2 (None, 3, 2, 32)          0         \n",
            "_________________________________________________________________\n",
            "dropout_1 (Dropout)          (None, 3, 2, 32)          0         \n",
            "_________________________________________________________________\n",
            "conv2d_3 (Conv2D)            (None, 3, 2, 64)          51264     \n",
            "_________________________________________________________________\n",
            "conv2d_4 (Conv2D)            (None, 3, 2, 64)          102464    \n",
            "_________________________________________________________________\n",
            "max_pooling2d_2 (MaxPooling2 (None, 1, 1, 64)          0         \n",
            "_________________________________________________________________\n",
            "dropout_2 (Dropout)          (None, 1, 1, 64)          0         \n",
            "_________________________________________________________________\n",
            "flatten_1 (Flatten)          (None, 64)                0         \n",
            "_________________________________________________________________\n",
            "dense_1 (Dense)              (None, 120)               7800      \n",
            "_________________________________________________________________\n",
            "dense_2 (Dense)              (None, 84)                10164     \n",
            "_________________________________________________________________\n",
            "dense_3 (Dense)              (None, 2)                 170       \n",
            "=================================================================\n",
            "Total params: 198,326\n",
            "Trainable params: 198,326\n",
            "Non-trainable params: 0\n",
            "_________________________________________________________________\n"
          ],
          "name": "stdout"
        }
      ]
    },
    {
      "cell_type": "code",
      "metadata": {
        "id": "8Z913AqUa8bJ",
        "colab_type": "code",
        "outputId": "77f8351a-162d-481f-cd95-45747d4bd9a1",
        "colab": {
          "base_uri": "https://localhost:8080/",
          "height": 108
        }
      },
      "source": [
        "model.compile(optimizer=\"adam\", loss=\"categorical_crossentropy\", metrics=[\"accuracy\"])"
      ],
      "execution_count": 24,
      "outputs": [
        {
          "output_type": "stream",
          "text": [
            "W0906 07:00:45.826944 140071122556800 deprecation_wrapper.py:119] From /usr/local/lib/python3.6/dist-packages/keras/optimizers.py:793: The name tf.train.Optimizer is deprecated. Please use tf.compat.v1.train.Optimizer instead.\n",
            "\n",
            "W0906 07:00:45.860473 140071122556800 deprecation_wrapper.py:119] From /usr/local/lib/python3.6/dist-packages/keras/backend/tensorflow_backend.py:3576: The name tf.log is deprecated. Please use tf.math.log instead.\n",
            "\n"
          ],
          "name": "stderr"
        }
      ]
    },
    {
      "cell_type": "markdown",
      "metadata": {
        "id": "VORA4n9Lz9of",
        "colab_type": "text"
      },
      "source": [
        "# 優化器"
      ]
    },
    {
      "cell_type": "code",
      "metadata": {
        "id": "Kw_j4R4Da_To",
        "colab_type": "code",
        "colab": {}
      },
      "source": [
        "#1\n",
        "lr_reduction = ReduceLROnPlateau(monitor='val_acc', \n",
        "                                 patience=10, \n",
        "                                 verbose=1, \n",
        "                                 factor=0.5, \n",
        "                                 min_lr=0.000001)\n",
        "#2\n",
        "es = EarlyStopping(monitor='val_loss', #驗證集loss\n",
        "                   min_delta=0, \n",
        "                   patience=30,  \n",
        "                   mode='min',\n",
        "                   restore_best_weights=True)#恢復最佳權重"
      ],
      "execution_count": 0,
      "outputs": []
    },
    {
      "cell_type": "markdown",
      "metadata": {
        "id": "aevlVsI9Lk9a",
        "colab_type": "text"
      },
      "source": [
        "# fit"
      ]
    },
    {
      "cell_type": "code",
      "metadata": {
        "id": "TJJR7Yg-bHac",
        "colab_type": "code",
        "outputId": "a242d111-2f61-4dd3-df65-e8fb17ca4ff0",
        "colab": {
          "base_uri": "https://localhost:8080/",
          "height": 1000
        }
      },
      "source": [
        "history = model.fit(xtrain,ytrain,\n",
        "                    batch_size=100,\n",
        "                    epochs=300,\n",
        "                    validation_data=(xval,yval),\n",
        "                    verbose=1,callbacks=[es])"
      ],
      "execution_count": 26,
      "outputs": [
        {
          "output_type": "stream",
          "text": [
            "W0906 07:00:45.988296 140071122556800 deprecation.py:323] From /usr/local/lib/python3.6/dist-packages/tensorflow/python/ops/math_grad.py:1250: add_dispatch_support.<locals>.wrapper (from tensorflow.python.ops.array_ops) is deprecated and will be removed in a future version.\n",
            "Instructions for updating:\n",
            "Use tf.where in 2.0, which has the same broadcast rule as np.where\n"
          ],
          "name": "stderr"
        },
        {
          "output_type": "stream",
          "text": [
            "Train on 327 samples, validate on 82 samples\n",
            "Epoch 1/300\n",
            "327/327 [==============================] - 1s 2ms/step - loss: 0.6942 - acc: 0.4832 - val_loss: 0.6966 - val_acc: 0.4512\n",
            "Epoch 2/300\n",
            "327/327 [==============================] - 0s 600us/step - loss: 0.6889 - acc: 0.5382 - val_loss: 0.7091 - val_acc: 0.4512\n",
            "Epoch 3/300\n",
            "327/327 [==============================] - 0s 578us/step - loss: 0.6913 - acc: 0.5382 - val_loss: 0.7093 - val_acc: 0.4512\n",
            "Epoch 4/300\n",
            "327/327 [==============================] - 0s 598us/step - loss: 0.6881 - acc: 0.5321 - val_loss: 0.6950 - val_acc: 0.5366\n",
            "Epoch 5/300\n",
            "327/327 [==============================] - 0s 543us/step - loss: 0.6850 - acc: 0.5627 - val_loss: 0.6995 - val_acc: 0.5000\n",
            "Epoch 6/300\n",
            "327/327 [==============================] - 0s 556us/step - loss: 0.6803 - acc: 0.5535 - val_loss: 0.7196 - val_acc: 0.4268\n",
            "Epoch 7/300\n",
            "327/327 [==============================] - 0s 542us/step - loss: 0.6722 - acc: 0.5535 - val_loss: 0.7287 - val_acc: 0.5610\n",
            "Epoch 8/300\n",
            "327/327 [==============================] - 0s 541us/step - loss: 0.6631 - acc: 0.5933 - val_loss: 0.7121 - val_acc: 0.4756\n",
            "Epoch 9/300\n",
            "327/327 [==============================] - 0s 560us/step - loss: 0.6603 - acc: 0.5872 - val_loss: 0.7348 - val_acc: 0.5244\n",
            "Epoch 10/300\n",
            "327/327 [==============================] - 0s 546us/step - loss: 0.6556 - acc: 0.5933 - val_loss: 0.7046 - val_acc: 0.5122\n",
            "Epoch 11/300\n",
            "327/327 [==============================] - 0s 589us/step - loss: 0.6394 - acc: 0.6300 - val_loss: 0.7233 - val_acc: 0.5122\n",
            "Epoch 12/300\n",
            "327/327 [==============================] - 0s 523us/step - loss: 0.6332 - acc: 0.6086 - val_loss: 0.7021 - val_acc: 0.5610\n",
            "Epoch 13/300\n",
            "327/327 [==============================] - 0s 557us/step - loss: 0.6030 - acc: 0.6575 - val_loss: 0.7046 - val_acc: 0.5610\n",
            "Epoch 14/300\n",
            "327/327 [==============================] - 0s 589us/step - loss: 0.5975 - acc: 0.6606 - val_loss: 0.8273 - val_acc: 0.5122\n",
            "Epoch 15/300\n",
            "327/327 [==============================] - 0s 582us/step - loss: 0.5790 - acc: 0.7278 - val_loss: 0.6994 - val_acc: 0.5976\n",
            "Epoch 16/300\n",
            "327/327 [==============================] - 0s 534us/step - loss: 0.5796 - acc: 0.6728 - val_loss: 0.8971 - val_acc: 0.4878\n",
            "Epoch 17/300\n",
            "327/327 [==============================] - 0s 538us/step - loss: 0.5372 - acc: 0.7156 - val_loss: 0.7186 - val_acc: 0.5976\n",
            "Epoch 18/300\n",
            "327/327 [==============================] - 0s 551us/step - loss: 0.5140 - acc: 0.7554 - val_loss: 0.7737 - val_acc: 0.5488\n",
            "Epoch 19/300\n",
            "327/327 [==============================] - 0s 547us/step - loss: 0.4760 - acc: 0.7737 - val_loss: 0.8239 - val_acc: 0.6220\n",
            "Epoch 20/300\n",
            "327/327 [==============================] - 0s 553us/step - loss: 0.4347 - acc: 0.8012 - val_loss: 0.9990 - val_acc: 0.5610\n",
            "Epoch 21/300\n",
            "327/327 [==============================] - 0s 543us/step - loss: 0.4258 - acc: 0.8043 - val_loss: 0.8716 - val_acc: 0.6220\n",
            "Epoch 22/300\n",
            "327/327 [==============================] - 0s 540us/step - loss: 0.3798 - acc: 0.8287 - val_loss: 1.0987 - val_acc: 0.5366\n",
            "Epoch 23/300\n",
            "327/327 [==============================] - 0s 542us/step - loss: 0.4095 - acc: 0.8104 - val_loss: 0.9224 - val_acc: 0.5976\n",
            "Epoch 24/300\n",
            "327/327 [==============================] - 0s 560us/step - loss: 0.3540 - acc: 0.8379 - val_loss: 1.0702 - val_acc: 0.5610\n",
            "Epoch 25/300\n",
            "327/327 [==============================] - 0s 530us/step - loss: 0.3230 - acc: 0.8654 - val_loss: 1.0476 - val_acc: 0.5610\n",
            "Epoch 26/300\n",
            "327/327 [==============================] - 0s 539us/step - loss: 0.2965 - acc: 0.8930 - val_loss: 1.1667 - val_acc: 0.6341\n",
            "Epoch 27/300\n",
            "327/327 [==============================] - 0s 547us/step - loss: 0.2615 - acc: 0.8807 - val_loss: 1.5585 - val_acc: 0.5122\n",
            "Epoch 28/300\n",
            "327/327 [==============================] - 0s 597us/step - loss: 0.3128 - acc: 0.8624 - val_loss: 1.4036 - val_acc: 0.5122\n",
            "Epoch 29/300\n",
            "327/327 [==============================] - 0s 581us/step - loss: 0.3429 - acc: 0.8563 - val_loss: 1.5133 - val_acc: 0.5488\n",
            "Epoch 30/300\n",
            "327/327 [==============================] - 0s 562us/step - loss: 0.2530 - acc: 0.8960 - val_loss: 1.2172 - val_acc: 0.5854\n",
            "Epoch 31/300\n",
            "327/327 [==============================] - 0s 558us/step - loss: 0.2328 - acc: 0.9083 - val_loss: 1.2648 - val_acc: 0.5488\n",
            "Epoch 32/300\n",
            "327/327 [==============================] - 0s 562us/step - loss: 0.2524 - acc: 0.8960 - val_loss: 1.3822 - val_acc: 0.5244\n",
            "Epoch 33/300\n",
            "327/327 [==============================] - 0s 537us/step - loss: 0.1839 - acc: 0.9327 - val_loss: 1.2930 - val_acc: 0.5488\n",
            "Epoch 34/300\n",
            "327/327 [==============================] - 0s 556us/step - loss: 0.2055 - acc: 0.9144 - val_loss: 1.5329 - val_acc: 0.5366\n"
          ],
          "name": "stdout"
        }
      ]
    },
    {
      "cell_type": "markdown",
      "metadata": {
        "id": "xQ2Koxsz0Zun",
        "colab_type": "text"
      },
      "source": [
        "# 訓練過程評估"
      ]
    },
    {
      "cell_type": "code",
      "metadata": {
        "id": "2SxJIEDzbaZ7",
        "colab_type": "code",
        "outputId": "4ebf5e21-a5b3-456b-9669-7708d1e3ece2",
        "colab": {
          "base_uri": "https://localhost:8080/",
          "height": 269
        }
      },
      "source": [
        "import matplotlib.pyplot as plt\n",
        "fig, ax = plt.subplots(2,1)\n",
        "ax[0].plot(history.history['loss'], color='b', label=\"Training loss\")\n",
        "ax[0].plot(history.history['val_loss'], color='r', label=\"Validation loss\",axes =ax[0])\n",
        "ax[0].grid(color='black', linestyle='-', linewidth=0.25)\n",
        "legend = ax[0].legend(loc='best', shadow=True)\n",
        "\n",
        "ax[1].plot(history.history['acc'], color='b', label=\"Training accuracy\")\n",
        "ax[1].plot(history.history['val_acc'], color='r',label=\"Validation accuracy\")\n",
        "ax[1].grid(color='black', linestyle='-', linewidth=0.25)\n",
        "legend = ax[1].legend(loc='best', shadow=True)"
      ],
      "execution_count": 27,
      "outputs": [
        {
          "output_type": "display_data",
          "data": {
            "image/png": "[encoded data removed]",
            "text/plain": [
              "<Figure size 432x288 with 2 Axes>"
            ]
          },
          "metadata": {
            "tags": []
          }
        }
      ]
    },
    {
      "cell_type": "markdown",
      "metadata": {
        "id": "zWVmgHz80cCp",
        "colab_type": "text"
      },
      "source": [
        "# 混淆矩陣"
      ]
    },
    {
      "cell_type": "code",
      "metadata": {
        "id": "UH5CcmX6btme",
        "colab_type": "code",
        "outputId": "b4985fd5-311f-4cdb-a049-d85a162f36dd",
        "colab": {
          "base_uri": "https://localhost:8080/",
          "height": 311
        }
      },
      "source": [
        "from sklearn.metrics import confusion_matrix\n",
        "import itertools\n",
        "\n",
        "def plot_confusion_matrix(cm, classes, normalize=False, title='Confusion matrix', cmap=plt.cm.Blues):\n",
        "    plt.imshow(cm, interpolation='nearest', cmap=cmap)\n",
        "    plt.title(title)\n",
        "    plt.colorbar()\n",
        "    tick_marks = np.arange(len(classes))\n",
        "    plt.xticks(tick_marks, classes, rotation=45)\n",
        "    plt.yticks(tick_marks, classes)\n",
        "    if normalize:\n",
        "        cm = cm.astype('float') / cm.sum(axis=1)[:, np.newaxis]\n",
        "    thresh = cm.max() / 2.\n",
        "    for i, j in itertools.product(range(cm.shape[0]), range(cm.shape[1])):\n",
        "        plt.text(j, i, cm[i, j],\n",
        "                 horizontalalignment=\"center\",\n",
        "                 color=\"white\" if cm[i, j] > thresh else \"black\")\n",
        "    plt.tight_layout()\n",
        "    plt.ylabel('True label')\n",
        "    plt.xlabel('Predicted label')\n",
        "\n",
        "#預測的y\n",
        "ypred_onehot = model.predict(xval)\n",
        "#轉換預測的y: [0 0 1 0 0 ...] --> 2\n",
        "ypred = np.argmax(ypred_onehot,axis=1)\n",
        "#轉換真實的y\n",
        "ytrue = np.argmax(yval,axis=1)\n",
        "#計算 confusion matrix\n",
        "confusion_mtx = confusion_matrix(ytrue, ypred)\n",
        "#畫出 confusion matrix\n",
        "plot_confusion_matrix(confusion_mtx, classes=range(nclasses))"
      ],
      "execution_count": 28,
      "outputs": [
        {
          "output_type": "display_data",
          "data": {
            "image/png": "[encoded data removed]",
            "text/plain": [
              "<Figure size 432x288 with 2 Axes>"
            ]
          },
          "metadata": {
            "tags": []
          }
        }
      ]
    },
    {
      "cell_type": "markdown",
      "metadata": {
        "id": "PmgafP2rpjAO",
        "colab_type": "text"
      },
      "source": [
        "# 分類report"
      ]
    },
    {
      "cell_type": "markdown",
      "metadata": {
        "id": "zXQ8o9mj1Ydh",
        "colab_type": "text"
      },
      "source": [
        "轉換預測結果"
      ]
    },
    {
      "cell_type": "code",
      "metadata": {
        "id": "lCSuw9cYqEYk",
        "colab_type": "code",
        "outputId": "7bbf86ab-01d9-4390-bce8-84dd145ca460",
        "colab": {
          "base_uri": "https://localhost:8080/",
          "height": 106
        }
      },
      "source": [
        "y_pred = model.predict(xval)#[[0.6,0.4],[0.4,0.6]]\n",
        "y_pred = [np.argmax(i) for i in y_pred]#[0,1]\n",
        "y_pred = to_categorical(y_pred, num_classes = 2)#[[1,0],[0,1]]\n",
        "print(y_pred[:5])"
      ],
      "execution_count": 29,
      "outputs": [
        {
          "output_type": "stream",
          "text": [
            "[[0. 1.]\n",
            " [0. 1.]\n",
            " [1. 0.]\n",
            " [1. 0.]\n",
            " [1. 0.]]\n"
          ],
          "name": "stdout"
        }
      ]
    },
    {
      "cell_type": "markdown",
      "metadata": {
        "id": "XrHrpsVb1avA",
        "colab_type": "text"
      },
      "source": [
        "真實y值"
      ]
    },
    {
      "cell_type": "code",
      "metadata": {
        "id": "T2tyxRdo1Mqm",
        "colab_type": "code",
        "outputId": "e0f91521-a951-42bb-d5e5-7d1989db7bba",
        "colab": {
          "base_uri": "https://localhost:8080/",
          "height": 106
        }
      },
      "source": [
        "print(yval[:5])"
      ],
      "execution_count": 30,
      "outputs": [
        {
          "output_type": "stream",
          "text": [
            "[[0. 1.]\n",
            " [1. 0.]\n",
            " [1. 0.]\n",
            " [1. 0.]\n",
            " [0. 1.]]\n"
          ],
          "name": "stdout"
        }
      ]
    },
    {
      "cell_type": "markdown",
      "metadata": {
        "id": "wztZOw2r1ddE",
        "colab_type": "text"
      },
      "source": [
        "分類報告"
      ]
    },
    {
      "cell_type": "code",
      "metadata": {
        "id": "vzMaU-Y8pjJT",
        "colab_type": "code",
        "outputId": "838cd16b-a7d7-4786-f042-973672ba664b",
        "colab": {
          "base_uri": "https://localhost:8080/",
          "height": 195
        }
      },
      "source": [
        "from sklearn.metrics import classification_report \n",
        "target_names = ['0','1']#漲跌\n",
        "print(classification_report(yval,y_pred,target_names=target_names))"
      ],
      "execution_count": 31,
      "outputs": [
        {
          "output_type": "stream",
          "text": [
            "              precision    recall  f1-score   support\n",
            "\n",
            "           0       0.49      0.68      0.57        37\n",
            "           1       0.61      0.42      0.50        45\n",
            "\n",
            "   micro avg       0.54      0.54      0.54        82\n",
            "   macro avg       0.55      0.55      0.53        82\n",
            "weighted avg       0.56      0.54      0.53        82\n",
            " samples avg       0.54      0.54      0.54        82\n",
            "\n"
          ],
          "name": "stdout"
        }
      ]
    },
    {
      "cell_type": "markdown",
      "metadata": {
        "id": "n-KXEoZLb9ie",
        "colab_type": "text"
      },
      "source": [
        "# plot error"
      ]
    },
    {
      "cell_type": "code",
      "metadata": {
        "id": "nCW5Xvtrb0fC",
        "colab_type": "code",
        "outputId": "ff087c62-8de3-47f7-a778-40d5b8f9730b",
        "colab": {
          "base_uri": "https://localhost:8080/",
          "height": 296
        }
      },
      "source": [
        "errors = (ypred - ytrue != 0)\n",
        "\n",
        "ypred_er = ypred_onehot[errors]\n",
        "ypred_classes_er = ypred[errors]\n",
        "ytrue_er = ytrue[errors]\n",
        "xval_er = xval[errors]\n",
        "\n",
        "def display_errors(errors_index, img_errors, pred_errors, obs_errors):\n",
        "    n = 0\n",
        "    nrows = 2\n",
        "    ncols = 3\n",
        "    fig, ax = plt.subplots(nrows, ncols, sharex=True, sharey=True)\n",
        "    plt.subplots_adjust(wspace =0.5, hspace =0.5)\n",
        "    for row in range(nrows):\n",
        "        for col in range(ncols):\n",
        "            error = errors_index[n]\n",
        "            ax[row,col].imshow((img_errors[error]).reshape((days,len(features))))\n",
        "            ax[row,col].set_title(\"Predicted label :{}\\nTrue label :{}\".format(pred_errors[error],obs_errors[error]))\n",
        "            n += 1\n",
        "            \n",
        "# 錯誤預測的概率\n",
        "ypred_er_prob = np.max(ypred_er,axis=1)\n",
        "\n",
        "# Predicted probabilities of the true values in the error set\n",
        "true_prob_er = np.diagonal(np.take(ypred_er, ytrue_er, axis=1))\n",
        "\n",
        "# Difference between the probability of the predicted label and the true label\n",
        "delta_pred_true_er = ypred_er_prob - true_prob_er\n",
        "\n",
        "# Sorted list of the delta prob errors\n",
        "sorted_delta_er = np.argsort(delta_pred_true_er)\n",
        "\n",
        "# Top 6 errors. You can change the range to see other images\n",
        "most_important_er = sorted_delta_er[-6:]\n",
        "\n",
        "# Show the top 6 errors\n",
        "display_errors(most_important_er, xval_er, ypred_classes_er, ytrue_er)"
      ],
      "execution_count": 32,
      "outputs": [
        {
          "output_type": "display_data",
          "data": {
            "image/png": "[encoded data removed]",
            "text/plain": [
              "<Figure size 432x288 with 6 Axes>"
            ]
          },
          "metadata": {
            "tags": []
          }
        }
      ]
    },
    {
      "cell_type": "code",
      "metadata": {
        "id": "4rw-BejYb_hd",
        "colab_type": "code",
        "colab": {}
      },
      "source": [
        ""
      ],
      "execution_count": 0,
      "outputs": []
    }
  ]
}